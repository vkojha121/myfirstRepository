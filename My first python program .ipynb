{
 "cells": [
  {
   "cell_type": "code",
   "execution_count": 1,
   "id": "b1501702",
   "metadata": {},
   "outputs": [
    {
     "name": "stdout",
     "output_type": "stream",
     "text": [
      "My class information\n"
     ]
    }
   ],
   "source": [
    "print(\"My class information\")"
   ]
  },
  {
   "cell_type": "code",
   "execution_count": 2,
   "id": "b770b49a",
   "metadata": {},
   "outputs": [],
   "source": [
    "import pandas as pd"
   ]
  },
  {
   "cell_type": "code",
   "execution_count": 3,
   "id": "032d0a77",
   "metadata": {},
   "outputs": [
    {
     "data": {
      "text/html": [
       "<div>\n",
       "<style scoped>\n",
       "    .dataframe tbody tr th:only-of-type {\n",
       "        vertical-align: middle;\n",
       "    }\n",
       "\n",
       "    .dataframe tbody tr th {\n",
       "        vertical-align: top;\n",
       "    }\n",
       "\n",
       "    .dataframe thead th {\n",
       "        text-align: right;\n",
       "    }\n",
       "</style>\n",
       "<table border=\"1\" class=\"dataframe\">\n",
       "  <thead>\n",
       "    <tr style=\"text-align: right;\">\n",
       "      <th></th>\n",
       "      <th>Name</th>\n",
       "      <th>Batch No</th>\n",
       "      <th>Roll No</th>\n",
       "      <th>Address</th>\n",
       "    </tr>\n",
       "  </thead>\n",
       "  <tbody>\n",
       "    <tr>\n",
       "      <th>0</th>\n",
       "      <td>Mahakal</td>\n",
       "      <td>Python01</td>\n",
       "      <td>120</td>\n",
       "      <td>Gurgaon</td>\n",
       "    </tr>\n",
       "    <tr>\n",
       "      <th>1</th>\n",
       "      <td>Sweta Bhabhi</td>\n",
       "      <td>Jupitor02</td>\n",
       "      <td>121</td>\n",
       "      <td>Noida</td>\n",
       "    </tr>\n",
       "    <tr>\n",
       "      <th>2</th>\n",
       "      <td>Vimlesh Ojha</td>\n",
       "      <td>Python03</td>\n",
       "      <td>122</td>\n",
       "      <td>Sultanpur</td>\n",
       "    </tr>\n",
       "    <tr>\n",
       "      <th>3</th>\n",
       "      <td>Subh Tiwari</td>\n",
       "      <td>4</td>\n",
       "      <td>123</td>\n",
       "      <td>Noida Sector 70</td>\n",
       "    </tr>\n",
       "    <tr>\n",
       "      <th>4</th>\n",
       "      <td>Pawan Bhaiya</td>\n",
       "      <td>5</td>\n",
       "      <td>124</td>\n",
       "      <td>Glasgow</td>\n",
       "    </tr>\n",
       "  </tbody>\n",
       "</table>\n",
       "</div>"
      ],
      "text/plain": [
       "           Name   Batch No  Roll No           Address\n",
       "0       Mahakal   Python01       120          Gurgaon\n",
       "1  Sweta Bhabhi  Jupitor02       121            Noida\n",
       "2  Vimlesh Ojha   Python03       122        Sultanpur\n",
       "3   Subh Tiwari          4       123  Noida Sector 70\n",
       "4  Pawan Bhaiya          5       124          Glasgow"
      ]
     },
     "execution_count": 3,
     "metadata": {},
     "output_type": "execute_result"
    }
   ],
   "source": [
    "pd.read_excel(r\"C:\\Users\\vkojh\\Desktop\\DataSet01.xlsx\")"
   ]
  },
  {
   "cell_type": "code",
   "execution_count": 4,
   "id": "b86edcee",
   "metadata": {},
   "outputs": [
    {
     "data": {
      "text/html": [
       "<div>\n",
       "<style scoped>\n",
       "    .dataframe tbody tr th:only-of-type {\n",
       "        vertical-align: middle;\n",
       "    }\n",
       "\n",
       "    .dataframe tbody tr th {\n",
       "        vertical-align: top;\n",
       "    }\n",
       "\n",
       "    .dataframe thead th {\n",
       "        text-align: right;\n",
       "    }\n",
       "</style>\n",
       "<table border=\"1\" class=\"dataframe\">\n",
       "  <thead>\n",
       "    <tr style=\"text-align: right;\">\n",
       "      <th></th>\n",
       "      <th>Name</th>\n",
       "      <th>Batch No</th>\n",
       "      <th>Roll No</th>\n",
       "      <th>Address</th>\n",
       "      <th>Fee Amount</th>\n",
       "    </tr>\n",
       "  </thead>\n",
       "  <tbody>\n",
       "    <tr>\n",
       "      <th>0</th>\n",
       "      <td>Mahakal</td>\n",
       "      <td>Python01</td>\n",
       "      <td>120</td>\n",
       "      <td>Gurgaon</td>\n",
       "      <td>15999</td>\n",
       "    </tr>\n",
       "    <tr>\n",
       "      <th>1</th>\n",
       "      <td>Sweta Bhabhi</td>\n",
       "      <td>Jupitor02</td>\n",
       "      <td>121</td>\n",
       "      <td>Noida</td>\n",
       "      <td>12999</td>\n",
       "    </tr>\n",
       "    <tr>\n",
       "      <th>2</th>\n",
       "      <td>Vimlesh Ojha</td>\n",
       "      <td>Python03</td>\n",
       "      <td>122</td>\n",
       "      <td>Sultanpur</td>\n",
       "      <td>15999</td>\n",
       "    </tr>\n",
       "    <tr>\n",
       "      <th>3</th>\n",
       "      <td>Subh Tiwari</td>\n",
       "      <td>4</td>\n",
       "      <td>123</td>\n",
       "      <td>Noida Sector 70</td>\n",
       "      <td>16999</td>\n",
       "    </tr>\n",
       "    <tr>\n",
       "      <th>4</th>\n",
       "      <td>Pawan Bhaiya</td>\n",
       "      <td>5</td>\n",
       "      <td>124</td>\n",
       "      <td>Glasgow</td>\n",
       "      <td>19999</td>\n",
       "    </tr>\n",
       "  </tbody>\n",
       "</table>\n",
       "</div>"
      ],
      "text/plain": [
       "           Name   Batch No  Roll No           Address  Fee Amount\n",
       "0       Mahakal   Python01       120          Gurgaon       15999\n",
       "1  Sweta Bhabhi  Jupitor02       121            Noida       12999\n",
       "2  Vimlesh Ojha   Python03       122        Sultanpur       15999\n",
       "3   Subh Tiwari          4       123  Noida Sector 70       16999\n",
       "4  Pawan Bhaiya          5       124          Glasgow       19999"
      ]
     },
     "execution_count": 4,
     "metadata": {},
     "output_type": "execute_result"
    }
   ],
   "source": [
    "pd.read_csv(r\"C:\\Users\\vkojh\\Desktop\\DataSet02.csv\")"
   ]
  },
  {
   "cell_type": "code",
   "execution_count": 19,
   "id": "351fff68",
   "metadata": {},
   "outputs": [
    {
     "data": {
      "text/html": [
       "<div>\n",
       "<style scoped>\n",
       "    .dataframe tbody tr th:only-of-type {\n",
       "        vertical-align: middle;\n",
       "    }\n",
       "\n",
       "    .dataframe tbody tr th {\n",
       "        vertical-align: top;\n",
       "    }\n",
       "\n",
       "    .dataframe thead th {\n",
       "        text-align: right;\n",
       "    }\n",
       "</style>\n",
       "<table border=\"1\" class=\"dataframe\">\n",
       "  <thead>\n",
       "    <tr style=\"text-align: right;\">\n",
       "      <th></th>\n",
       "      <th>Name</th>\n",
       "      <th>Phone No</th>\n",
       "      <th>Address</th>\n",
       "      <th>Batch No</th>\n",
       "    </tr>\n",
       "  </thead>\n",
       "  <tbody>\n",
       "    <tr>\n",
       "      <th>0</th>\n",
       "      <td>Allen</td>\n",
       "      <td>9893658658</td>\n",
       "      <td>Noid</td>\n",
       "      <td>2</td>\n",
       "    </tr>\n",
       "    <tr>\n",
       "      <th>1</th>\n",
       "      <td>Zosef</td>\n",
       "      <td>9204524752</td>\n",
       "      <td>Kanpur</td>\n",
       "      <td>9</td>\n",
       "    </tr>\n",
       "    <tr>\n",
       "      <th>2</th>\n",
       "      <td>Shyam</td>\n",
       "      <td>9839324198</td>\n",
       "      <td>delhi</td>\n",
       "      <td>5</td>\n",
       "    </tr>\n",
       "  </tbody>\n",
       "</table>\n",
       "</div>"
      ],
      "text/plain": [
       "    Name    Phone No Address  Batch No\n",
       "0  Allen  9893658658    Noid         2\n",
       "1  Zosef  9204524752  Kanpur         9\n",
       "2  Shyam  9839324198   delhi         5"
      ]
     },
     "execution_count": 19,
     "metadata": {},
     "output_type": "execute_result"
    }
   ],
   "source": [
    "pd.read_csv(r'C:\\Users\\vkojh\\Desktop\\DataSet03.tsv',sep='\\t')"
   ]
  },
  {
   "cell_type": "code",
   "execution_count": null,
   "id": "cdccd42d",
   "metadata": {},
   "outputs": [],
   "source": []
  }
 ],
 "metadata": {
  "kernelspec": {
   "display_name": "Python 3 (ipykernel)",
   "language": "python",
   "name": "python3"
  },
  "language_info": {
   "codemirror_mode": {
    "name": "ipython",
    "version": 3
   },
   "file_extension": ".py",
   "mimetype": "text/x-python",
   "name": "python",
   "nbconvert_exporter": "python",
   "pygments_lexer": "ipython3",
   "version": "3.9.12"
  }
 },
 "nbformat": 4,
 "nbformat_minor": 5
}
